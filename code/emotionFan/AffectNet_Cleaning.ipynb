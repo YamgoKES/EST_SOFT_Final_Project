{
 "cells": [
  {
   "cell_type": "code",
   "execution_count": 7,
   "id": "2bf5ac3c-53c5-44fc-9fdd-989cc7b944aa",
   "metadata": {},
   "outputs": [
    {
     "name": "stdout",
     "output_type": "stream",
     "text": [
      "✅ 완료: 불필요 감정 제거 후 CSV 및 이미지 정리 완료.\n"
     ]
    }
   ],
   "source": [
    "import os\n",
    "import pandas as pd\n",
    "\n",
    "# 설정\n",
    "csv_path = r\"C:\\Users\\SCK\\Desktop\\affectnet\\labels.csv\"                # 원본 CSV\n",
    "source_root = r\"C:\\Users\\SCK\\Desktop\\affectnet\"             # 원본 이미지 폴더\n",
    "target_root = r\"C:\\Users\\SCK\\Desktop\\affectnet_cleaned\"     # 정리된 이미지 저장 폴더\n",
    "labels_to_keep = ['happy', 'sad', 'anger', 'surprise']\n",
    "\n",
    "# CSV 로드\n",
    "df = pd.read_csv(csv_path)\n",
    "\n",
    "# 1. 필터링: 유지할 라벨만 남기기\n",
    "df_filtered = df[df['label'].isin(labels_to_keep)].copy()\n",
    "\n",
    "# 2. 폴더 정리: 대상 감정만 이미지 복사\n",
    "import shutil\n",
    "\n",
    "os.makedirs(target_root, exist_ok=True)\n",
    "\n",
    "for _, row in df_filtered.iterrows():\n",
    "    rel_path = row['pth']               # 예: anger/image0000012.jpg\n",
    "    label = row['label']                # 예: anger\n",
    "\n",
    "    src_path = os.path.join(source_root, rel_path)\n",
    "    dst_dir = os.path.join(target_root, label)\n",
    "    dst_path = os.path.join(dst_dir, os.path.basename(rel_path))\n",
    "\n",
    "    os.makedirs(dst_dir, exist_ok=True)\n",
    "\n",
    "    try:\n",
    "        shutil.copy2(src_path, dst_path)  # 복사 (필요시 move로 변경 가능)\n",
    "    except Exception as e:\n",
    "        print(f\"❌ 복사 실패: {src_path} → {dst_path} ({e})\")\n",
    "\n",
    "# 3. 새 CSV 저장\n",
    "df_filtered.to_csv(r\"C:\\Users\\SCK\\Desktop\\affectnet_cleaned\\labels_filtered_cleaned.csv\", index=False)\n",
    "print(\"✅ 완료: 불필요 감정 제거 후 CSV 및 이미지 정리 완료.\")"
   ]
  },
  {
   "cell_type": "code",
   "execution_count": 9,
   "id": "ec7ffa47-acfb-4ac9-b5e1-07f4a9652538",
   "metadata": {},
   "outputs": [
    {
     "name": "stdout",
     "output_type": "stream",
     "text": [
      "anger: 4149 images\n",
      "happy: 4330 images\n",
      "sad: 3344 images\n",
      "surprise: 4764 images\n"
     ]
    },
    {
     "data": {
      "image/png": "[encoded data removed]",
      "text/plain": [
       "<Figure size 800x500 with 1 Axes>"
      ]
     },
     "metadata": {},
     "output_type": "display_data"
    }
   ],
   "source": [
    "import os\n",
    "from collections import defaultdict\n",
    "import matplotlib.pyplot as plt\n",
    "\n",
    "# 새로 정리된 이미지 폴더\n",
    "cleaned_root = r\"C:\\Users\\SCK\\Desktop\\affectnet_cleaned\"\n",
    "\n",
    "# 감정별 이미지 수 집계\n",
    "emotion_counts = defaultdict(int)\n",
    "\n",
    "for emotion in os.listdir(cleaned_root):\n",
    "    emotion_path = os.path.join(cleaned_root, emotion)\n",
    "    if os.path.isdir(emotion_path):\n",
    "        image_files = [f for f in os.listdir(emotion_path) if f.lower().endswith(('.jpg', '.png', '.jpeg'))]\n",
    "        emotion_counts[emotion] = len(image_files)\n",
    "\n",
    "# 텍스트 출력\n",
    "for emotion, count in sorted(emotion_counts.items()):\n",
    "    print(f\"{emotion}: {count} images\")\n",
    "\n",
    "# 시각화 (선택)\n",
    "plt.figure(figsize=(8, 5))\n",
    "plt.bar(emotion_counts.keys(), emotion_counts.values())\n",
    "plt.title(\"Emotion Distribution in affectnet_cleaned\")\n",
    "plt.xlabel(\"Emotion\")\n",
    "plt.ylabel(\"Number of Images\")\n",
    "plt.grid(axis='y')\n",
    "plt.tight_layout()\n",
    "plt.show()"
   ]
  },
  {
   "cell_type": "code",
   "execution_count": 11,
   "id": "cb3030e8-ea5c-451e-beda-ecdef205decf",
   "metadata": {},
   "outputs": [
    {
     "name": "stdout",
     "output_type": "stream",
     "text": [
      "✅ 완료: affectnet_cleaned를 8:2로 train/val 분할하여 affectnet_split에 저장함.\n"
     ]
    }
   ],
   "source": [
    "import os\n",
    "import shutil\n",
    "import random\n",
    "\n",
    "# 원본 이미지 폴더\n",
    "source_root = r\"C:\\Users\\SCK\\Desktop\\affectnet_cleaned\"\n",
    "# 분할 저장할 폴더\n",
    "target_root = r\"C:\\Users\\SCK\\Desktop\\affectnet_split\"\n",
    "split_ratio = 0.8  # train:val = 8:2\n",
    "\n",
    "# 감정 클래스 폴더 기준 분할\n",
    "for emotion in os.listdir(source_root):\n",
    "    emotion_path = os.path.join(source_root, emotion)\n",
    "    if not os.path.isdir(emotion_path):\n",
    "        continue\n",
    "\n",
    "    images = [f for f in os.listdir(emotion_path) if f.lower().endswith(('.jpg', '.png', '.jpeg'))]\n",
    "    random.shuffle(images)\n",
    "\n",
    "    split_idx = int(len(images) * split_ratio)\n",
    "    train_images = images[:split_idx]\n",
    "    val_images = images[split_idx:]\n",
    "\n",
    "    for split_name, split_images in zip([\"train\", \"val\"], [train_images, val_images]):\n",
    "        split_dir = os.path.join(target_root, split_name, emotion)\n",
    "        os.makedirs(split_dir, exist_ok=True)\n",
    "\n",
    "        for img_name in split_images:\n",
    "            src = os.path.join(emotion_path, img_name)\n",
    "            dst = os.path.join(split_dir, img_name)\n",
    "            shutil.copy2(src, dst)  # 또는 shutil.move(src, dst)\n",
    "\n",
    "print(\"✅ 완료: affectnet_cleaned를 8:2로 train/val 분할하여 affectnet_split에 저장함.\")"
   ]
  }
 ],
 "metadata": {
  "kernelspec": {
   "display_name": "Python [conda env:base] *",
   "language": "python",
   "name": "conda-base-py"
  },
  "language_info": {
   "codemirror_mode": {
    "name": "ipython",
    "version": 3
   },
   "file_extension": ".py",
   "mimetype": "text/x-python",
   "name": "python",
   "nbconvert_exporter": "python",
   "pygments_lexer": "ipython3",
   "version": "3.12.7"
  }
 },
 "nbformat": 4,
 "nbformat_minor": 5
}
