{
 "cells": [
  {
   "cell_type": "code",
   "execution_count": 3,
   "id": "f515b036-a0ad-41c9-adeb-d18c7a345716",
   "metadata": {},
   "outputs": [
    {
     "name": "stdout",
     "output_type": "stream",
     "text": [
      "Defaulting to user installation because normal site-packages is not writeable\n",
      "Collecting openai\n",
      "  Downloading openai-1.92.2-py3-none-any.whl.metadata (29 kB)\n",
      "Requirement already satisfied: anyio<5,>=3.5.0 in g:\\anaconda3\\lib\\site-packages (from openai) (4.2.0)\n",
      "Requirement already satisfied: distro<2,>=1.7.0 in g:\\anaconda3\\lib\\site-packages (from openai) (1.9.0)\n",
      "Requirement already satisfied: httpx<1,>=0.23.0 in g:\\anaconda3\\lib\\site-packages (from openai) (0.27.0)\n",
      "Collecting jiter<1,>=0.4.0 (from openai)\n",
      "  Downloading jiter-0.10.0-cp312-cp312-win_amd64.whl.metadata (5.3 kB)\n",
      "Requirement already satisfied: pydantic<3,>=1.9.0 in g:\\anaconda3\\lib\\site-packages (from openai) (2.8.2)\n",
      "Requirement already satisfied: sniffio in g:\\anaconda3\\lib\\site-packages (from openai) (1.3.0)\n",
      "Requirement already satisfied: tqdm>4 in g:\\anaconda3\\lib\\site-packages (from openai) (4.66.5)\n",
      "Requirement already satisfied: typing-extensions<5,>=4.11 in g:\\anaconda3\\lib\\site-packages (from openai) (4.11.0)\n",
      "Requirement already satisfied: idna>=2.8 in g:\\anaconda3\\lib\\site-packages (from anyio<5,>=3.5.0->openai) (3.7)\n",
      "Requirement already satisfied: certifi in g:\\anaconda3\\lib\\site-packages (from httpx<1,>=0.23.0->openai) (2025.1.31)\n",
      "Requirement already satisfied: httpcore==1.* in g:\\anaconda3\\lib\\site-packages (from httpx<1,>=0.23.0->openai) (1.0.2)\n",
      "Requirement already satisfied: h11<0.15,>=0.13 in g:\\anaconda3\\lib\\site-packages (from httpcore==1.*->httpx<1,>=0.23.0->openai) (0.14.0)\n",
      "Requirement already satisfied: annotated-types>=0.4.0 in g:\\anaconda3\\lib\\site-packages (from pydantic<3,>=1.9.0->openai) (0.6.0)\n",
      "Requirement already satisfied: pydantic-core==2.20.1 in g:\\anaconda3\\lib\\site-packages (from pydantic<3,>=1.9.0->openai) (2.20.1)\n",
      "Requirement already satisfied: colorama in g:\\anaconda3\\lib\\site-packages (from tqdm>4->openai) (0.4.6)\n",
      "Downloading openai-1.92.2-py3-none-any.whl (753 kB)\n",
      "   ---------------------------------------- 0.0/753.3 kB ? eta -:--:--\n",
      "   --------------------------------------- 753.3/753.3 kB 15.3 MB/s eta 0:00:00\n",
      "Downloading jiter-0.10.0-cp312-cp312-win_amd64.whl (206 kB)\n",
      "Installing collected packages: jiter, openai\n",
      "Successfully installed jiter-0.10.0 openai-1.92.2\n"
     ]
    },
    {
     "name": "stderr",
     "output_type": "stream",
     "text": [
      "  WARNING: The script openai.exe is installed in 'C:\\Users\\SCK\\AppData\\Roaming\\Python\\Python312\\Scripts' which is not on PATH.\n",
      "  Consider adding this directory to PATH or, if you prefer to suppress this warning, use --no-warn-script-location.\n"
     ]
    }
   ],
   "source": [
    "!pip install openai"
   ]
  },
  {
   "cell_type": "code",
   "execution_count": 11,
   "id": "c6052366-81e7-4d35-8027-fba5fc1cee34",
   "metadata": {},
   "outputs": [
    {
     "name": "stdout",
     "output_type": "stream",
     "text": [
      "Defaulting to user installation because normal site-packages is not writeable\n",
      "Requirement already satisfied: openai in c:\\users\\sck\\appdata\\roaming\\python\\python312\\site-packages (1.92.2)\n",
      "Requirement already satisfied: anyio<5,>=3.5.0 in g:\\anaconda3\\lib\\site-packages (from openai) (4.2.0)\n",
      "Requirement already satisfied: distro<2,>=1.7.0 in g:\\anaconda3\\lib\\site-packages (from openai) (1.9.0)\n",
      "Requirement already satisfied: httpx<1,>=0.23.0 in g:\\anaconda3\\lib\\site-packages (from openai) (0.27.0)\n",
      "Requirement already satisfied: jiter<1,>=0.4.0 in c:\\users\\sck\\appdata\\roaming\\python\\python312\\site-packages (from openai) (0.10.0)\n",
      "Requirement already satisfied: pydantic<3,>=1.9.0 in g:\\anaconda3\\lib\\site-packages (from openai) (2.8.2)\n",
      "Requirement already satisfied: sniffio in g:\\anaconda3\\lib\\site-packages (from openai) (1.3.0)\n",
      "Requirement already satisfied: tqdm>4 in g:\\anaconda3\\lib\\site-packages (from openai) (4.66.5)\n",
      "Requirement already satisfied: typing-extensions<5,>=4.11 in g:\\anaconda3\\lib\\site-packages (from openai) (4.11.0)\n",
      "Requirement already satisfied: idna>=2.8 in g:\\anaconda3\\lib\\site-packages (from anyio<5,>=3.5.0->openai) (3.7)\n",
      "Requirement already satisfied: certifi in g:\\anaconda3\\lib\\site-packages (from httpx<1,>=0.23.0->openai) (2025.1.31)\n",
      "Requirement already satisfied: httpcore==1.* in g:\\anaconda3\\lib\\site-packages (from httpx<1,>=0.23.0->openai) (1.0.2)\n",
      "Requirement already satisfied: h11<0.15,>=0.13 in g:\\anaconda3\\lib\\site-packages (from httpcore==1.*->httpx<1,>=0.23.0->openai) (0.14.0)\n",
      "Requirement already satisfied: annotated-types>=0.4.0 in g:\\anaconda3\\lib\\site-packages (from pydantic<3,>=1.9.0->openai) (0.6.0)\n",
      "Requirement already satisfied: pydantic-core==2.20.1 in g:\\anaconda3\\lib\\site-packages (from pydantic<3,>=1.9.0->openai) (2.20.1)\n",
      "Requirement already satisfied: colorama in g:\\anaconda3\\lib\\site-packages (from tqdm>4->openai) (0.4.6)\n"
     ]
    }
   ],
   "source": [
    "!pip install --upgrade openai"
   ]
  },
  {
   "cell_type": "code",
   "execution_count": 43,
   "id": "994c2b1b-dbde-4e65-8fe7-a00761fa5f9c",
   "metadata": {},
   "outputs": [
    {
     "name": "stdout",
     "output_type": "stream",
     "text": [
      "\n",
      "📢 GPT 응답:\n",
      "패닉 상태를 달래줄 수 있는 다양한 상품들이 있습니다. 아래는 그 중에서도 한사람이 고르기 좋은 카테고리 3가지입니다:\n",
      "<[편안한 의류]>\n",
      "<[힐링 캔들]>\n",
      "<[쌀쌀한 티마그 긱오운돌]>\n",
      "\n",
      "🎯 추출된 카테고리 리스트: ['편안한 의류', '힐링 캔들', '쌀쌀한 티마그 긱오운돌']\n"
     ]
    }
   ],
   "source": [
    "import json\n",
    "import requests\n",
    "import re\n",
    "from collections import Counter\n",
    "from openai import OpenAI\n",
    "\n",
    "# STEP 0: OpenAI API 키 불러오기\n",
    "with open(r\"C:\\Users\\SCK\\Desktop\\openai api key.txt\", \"r\") as f: ## <<<< openAI API 키를 TXT파일로 저장하고 주소 설정하면 됩니다.\n",
    "    openai_api_key = f.read().strip()\n",
    "\n",
    "client = OpenAI(api_key=openai_api_key)\n",
    "\n",
    "# STEP 1: 감정 JSON 로드 및 주요 감정 추출\n",
    "with open(r\"C:\\Users\\SCK\\Desktop\\test\\prediction_results.json\", \"r\") as f:\n",
    "    data = json.load(f)\n",
    "\n",
    "emotions = [item[\"predicted_label\"] for item in data]\n",
    "most_common_emotion = Counter(emotions).most_common(1)[0][0]\n",
    "\n",
    "# STEP 2: 프롬프트 생성\n",
    "prompt = f\"\"\"\n",
    "한 사람이 '{most_common_emotion}' 감정을 느끼고 있습니다.\n",
    "이 감정 상태에 적합한 쇼핑 카테고리를 사용자에게 말하듯 자연스럽게 추천해주세요.\n",
    "어울리는 쇼핑 카테고리 3개를 추천하되, 각 카테고리는 반드시 실제 쇼핑몰에서 검색 가능한 구체적인 명사로, <[카테고리명]> 형태로 묶어 출력해 주세요.\n",
    "\"\"\"\n",
    "\n",
    "# STEP 3: OpenAI Chat API 호출\n",
    "response = client.chat.completions.create(\n",
    "    model=\"gpt-3.5-turbo\",\n",
    "    messages=[\n",
    "        {\"role\": \"system\", \"content\": \"You are a shopping assistant.\"},\n",
    "        {\"role\": \"user\", \"content\": prompt}\n",
    "    ]\n",
    ")\n",
    "\n",
    "gpt_reply = response.choices[0].message.content.strip()\n",
    "print(f\"\\n📢 GPT 응답:\\n{gpt_reply}\")\n",
    "\n",
    "# STEP 4: <[카테고리명]> 형식으로 감싼 부분만 추출\n",
    "categories = re.findall(r\"<\\[(.*?)\\]>\", gpt_reply)\n",
    "print(f\"\\n🎯 추출된 카테고리 리스트: {categories}\")\n",
    "\n",
    "# 이후 네이버 쇼핑 API에 categories 리스트 넘기면 됨\n"
   ]
  },
  {
   "cell_type": "code",
   "execution_count": 45,
   "id": "24bdbdc7-9416-4181-9d30-807bb422ccb6",
   "metadata": {},
   "outputs": [
    {
     "name": "stdout",
     "output_type": "stream",
     "text": [
      "\n",
      "🔍 [편안한 의류] 관련 상품:\n",
      " - 루즈핏 나시 롱 원피스 스퀘어넥 여름 휴양지 원피스 바스락 나일론 시원한 원피스 바캉스룩 / 29800원\n",
      "   🔗 https://smartstore.naver.com/main/products/10552087640\n",
      " - 여름 체형커버 원피스 시원한 <b>편안한</b> 넉넉한 핏 체크 롱 원피스 66 77 빅사이즈 4컬러 / 34900원\n",
      "   🔗 https://smartstore.naver.com/main/products/8632279637\n",
      " - 민소매 레이어드 에이라인 롱 나시 바스락 원피스 66사이즈 77사이즈 빅사이즈 하객 / 43000원\n",
      "   🔗 https://smartstore.naver.com/main/products/7099254686\n",
      "\n",
      "🔍 [힐링 캔들] 관련 상품:\n",
      " - 메리고라운드 &amp; 크리스탈애플 <b>캔들</b> (2종택1) 타닥타닥 우드심지 불멍 소이<b>캔들</b> 향초 / 10000원\n",
      "   🔗 https://smartstore.naver.com/main/products/200191594\n",
      " - 로고스 시트로넬라 아로마 <b>힐링</b> 캠핑<b>캔들</b> - 감성캠핑 양초 / 4000원\n",
      "   🔗 https://search.shopping.naver.com/catalog/30261289360\n",
      " - 로고스 로고스 시트로넬라 아로마 <b>힐링 캔들</b> 4pcs 74309010 / 3850원\n",
      "   🔗 https://search.shopping.naver.com/catalog/54454807670\n",
      "\n",
      "🔍 [쌀쌀한 티마그 긱오운돌] 관련 상품:\n"
     ]
    }
   ],
   "source": [
    "with open(r\"C:\\Users\\SCK\\Desktop\\naverapi.txt\", \"r\") as f: ## <<< 마찬가지로 NAVER API 신청하고 ID랑 키값을 2줄로 적으면 됩니다.\n",
    "    lines = f.readlines()\n",
    "    naver_client_id = lines[0].strip()            \n",
    "    naver_client_secret = lines[1].strip()\n",
    "\n",
    "url = \"https://openapi.naver.com/v1/search/shop.json\"\n",
    "headers = {\n",
    "    \"X-Naver-Client-Id\": naver_client_id,\n",
    "    \"X-Naver-Client-Secret\": naver_client_secret\n",
    "}\n",
    "\n",
    "\n",
    "\n",
    "for cat in categories:\n",
    "    params = {\"query\": cat, \"display\": 3}\n",
    "    res = requests.get(url, headers=headers, params=params)\n",
    "    items = res.json().get(\"items\", [])\n",
    "    print(f\"\\n🔍 [{cat}] 관련 상품:\")\n",
    "    for item in items:\n",
    "        print(f\" - {item['title']} / {item['lprice']}원\")\n",
    "        print(f\"   🔗 {item['link']}\")"
   ]
  }
 ],
 "metadata": {
  "kernelspec": {
   "display_name": "Python [conda env:base] *",
   "language": "python",
   "name": "conda-base-py"
  },
  "language_info": {
   "codemirror_mode": {
    "name": "ipython",
    "version": 3
   },
   "file_extension": ".py",
   "mimetype": "text/x-python",
   "name": "python",
   "nbconvert_exporter": "python",
   "pygments_lexer": "ipython3",
   "version": "3.12.7"
  }
 },
 "nbformat": 4,
 "nbformat_minor": 5
}
