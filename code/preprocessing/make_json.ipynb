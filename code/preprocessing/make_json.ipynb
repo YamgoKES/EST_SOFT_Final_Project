{
 "cells": [
  {
   "cell_type": "code",
   "execution_count": 12,
   "id": "79ece6df",
   "metadata": {},
   "outputs": [],
   "source": [
    "import json\n",
    "import os"
   ]
  },
  {
   "cell_type": "code",
   "execution_count": null,
   "id": "4210c4e8",
   "metadata": {},
   "outputs": [],
   "source": [
    "base_dir = os.path.dirname(os.path.abspath(__file__))\n",
    "\n",
    "original_label_root = os.path.join(base_dir, 'Data','label')\n",
    "cropped_label_root = os.path.join(base_dir,'CropData2','label')\n",
    "cropped_img_root = os.path.join(base_dir, 'CropData2','img')\n",
    "\n",
    "sets = [\"train\", \"val\"]\n",
    "emotions =['anger', 'happy', 'sadness', 'panic']\n",
    "valid_extensions = (\".jpg\", \".jpeg\", \".png\")"
   ]
  },
  {
   "cell_type": "code",
   "execution_count": 14,
   "id": "170b6065",
   "metadata": {},
   "outputs": [],
   "source": [
    "def get_base_filename(filename):\n",
    "    return os.path.splitext(filename)[0]\n",
    "\n",
    "for dataset_type in sets :\n",
    "    for emotion in emotions :\n",
    "        print(f'Processing {dataset_type}-{emotion}')\n",
    "        \n",
    "        cropped_img_dir = os.path.join(cropped_img_root, dataset_type, emotion)\n",
    "        original_json_path = os.path.join(original_label_root, dataset_type, f'{dataset_type}_{emotion}.json')\n",
    "        output_json_path = os.path.join(cropped_label_root, dataset_type, f'{dataset_type}_crop_{emotion}.json')\n",
    "        \n",
    "        with open(original_json_path, 'r', encoding='euc-kr') as f :\n",
    "            original_labels = json.load(f)\n",
    "            \n",
    "        original_dict = {get_base_filename(item['filename']): item for item in original_labels}\n",
    "        \n",
    "        new_labels = []\n",
    "        \n",
    "        for cropped_filename in os.listdir(cropped_img_dir) :\n",
    "            if not cropped_filename.lower().endswith(valid_extensions) :\n",
    "                continue\n",
    "            \n",
    "            \n",
    "            base_name_part = cropped_filename.split('_crop')[0]\n",
    "            cropped_key = get_base_filename(base_name_part)\n",
    "            \n",
    "            if cropped_key not in original_dict :\n",
    "                print(f'Warning : {cropped_key} not found in original Json')\n",
    "                continue\n",
    "            \n",
    "            label_info = original_dict[cropped_key]\n",
    "            \n",
    "            \n",
    "            #새 라벨에 크볿이지 파일명과 기본정보 넣기\n",
    "            \n",
    "            new_label_item = {\n",
    "                'filename' : cropped_filename,\n",
    "                'gender' : label_info.get('gender'),\n",
    "                'age' : label_info.get('age'),\n",
    "                \"faceExp_uploader\": label_info.get(\"faceExp_uploader\"),\n",
    "                \"bg_uploader\": label_info.get(\"bg_uploader\"),   \n",
    "            }\n",
    "            \n",
    "            new_labels.append(new_label_item)\n",
    "        # 새 JSON 저장\n",
    "        os.makedirs(os.path.dirname(output_json_path), exist_ok=True)\n",
    "        with open(output_json_path, 'w', encoding='utf-8') as f:\n",
    "            json.dump(new_labels, f, ensure_ascii=False, indent=2)\n",
    "            "
   ]
  },
  {
   "cell_type": "code",
   "execution_count": null,
   "id": "c15b2507",
   "metadata": {},
   "outputs": [],
   "source": []
  }
 ],
 "metadata": {
  "kernelspec": {
   "display_name": "eunseo",
   "language": "python",
   "name": "python3"
  },
  "language_info": {
   "codemirror_mode": {
    "name": "ipython",
    "version": 3
   },
   "file_extension": ".py",
   "mimetype": "text/x-python",
   "name": "python",
   "nbconvert_exporter": "python",
   "pygments_lexer": "ipython3",
   "version": "3.10.18"
  }
 },
 "nbformat": 4,
 "nbformat_minor": 5
}
