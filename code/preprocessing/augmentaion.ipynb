{
 "cells": [
  {
   "cell_type": "code",
   "execution_count": 51,
   "id": "d4edd25c",
   "metadata": {},
   "outputs": [],
   "source": [
    "import os\n",
    "from PIL import Image\n",
    "from torchvision import transforms\n",
    "import json\n",
    "import re"
   ]
  },
  {
   "cell_type": "code",
   "execution_count": null,
   "id": "a9feac60",
   "metadata": {},
   "outputs": [],
   "source": [
    "emotions = ['anger', 'happy', 'sadness', 'panic']  # 예시 감정\n",
    "base_dir = os.path.dirname(os.path.abspath(__file__))\n",
    "input_img_root = os.path.join(base_dir, 'CropData2','img','train')\n",
    "input_json_root = os.path.join(base_dir, 'CropData2', 'label','train')\n",
    "output_img_root = os.path.join(base_dir,'augment')"
   ]
  },
  {
   "cell_type": "code",
   "execution_count": 53,
   "id": "2cabf991",
   "metadata": {},
   "outputs": [],
   "source": [
    "augment_transform = transforms.Compose([\n",
    "    transforms.RandomHorizontalFlip(),\n",
    "    transforms.ColorJitter(brightness=0.3, contrast=0.3, saturation=0.2, hue=0.04),\n",
    "    transforms.RandomRotation(10),\n",
    "    transforms.GaussianBlur(kernel_size=(5, 9), sigma=(0.1, 2.0))\n",
    "])"
   ]
  },
  {
   "cell_type": "code",
   "execution_count": 54,
   "id": "208ceb97",
   "metadata": {},
   "outputs": [],
   "source": [
    "#혹시나 하니까...\n",
    "def age_to_group(age):\n",
    "    if 10 <= age < 20:\n",
    "        return '10대'\n",
    "    elif 20 <= age < 30:\n",
    "        return '20대'\n",
    "    elif 30 <= age < 40:\n",
    "        return '30대'\n",
    "    elif 40 <= age < 50:\n",
    "        return '40대'\n",
    "    elif 50 <= age < 60:\n",
    "        return '50대'\n",
    "    elif 60 <= age < 70:\n",
    "        return '60대'\n",
    "    else:\n",
    "        return '기타'"
   ]
  },
  {
   "cell_type": "code",
   "execution_count": null,
   "id": "6718a94c",
   "metadata": {},
   "outputs": [],
   "source": [
    "augment_counts = {\n",
    "    '20대_여': 0,\n",
    "    '20대_남': 0,\n",
    "    '30대_여': 1,\n",
    "    '30대_남': 1,\n",
    "    '40대_여': 2,\n",
    "    '40대_남': 2,\n",
    "    '50대_여': 3,\n",
    "    '50대_남': 5,\n",
    "    '10대_여': 4,\n",
    "    '10대_남': 7,\n",
    "    '60대_여': 0,\n",
    "}"
   ]
  },
  {
   "cell_type": "code",
   "execution_count": 56,
   "id": "c2c71ed8",
   "metadata": {},
   "outputs": [],
   "source": [
    "def strip_ext(filename):\n",
    "    return os.path.splitext(filename)[0]"
   ]
  },
  {
   "cell_type": "code",
   "execution_count": 57,
   "id": "6333b0a8",
   "metadata": {},
   "outputs": [],
   "source": [
    "def load_metadata_from_json(json_path):\n",
    "    with open(json_path, 'r', encoding='utf-8') as f:\n",
    "        data = json.load(f)\n",
    "    return {strip_ext(item['filename']): item for item in data}\n"
   ]
  },
  {
   "cell_type": "code",
   "execution_count": 58,
   "id": "a00b84e3",
   "metadata": {},
   "outputs": [
    {
     "name": "stdout",
     "output_type": "stream",
     "text": [
      "Processing emotion: anger\n",
      "Processing emotion: happy\n",
      "Warning: 7jwq74bb4b3a43774918b7c1179842dcb78434458957168835d61bf57c44b5bw8(1)_crop_20.jpg 메타데이터 없음 → 원본만 저장.\n",
      "Processing emotion: sadness\n",
      "Processing emotion: panic\n",
      "Warning: 64f21a1de3537ea5e57bfcf0195951512db6f5def5575b49eb7eea785bb25emqj(1)_crop_20.jpg 메타데이터 없음 → 원본만 저장.\n"
     ]
    }
   ],
   "source": [
    "for emotion in emotions:\n",
    "    print(f'Processing emotion: {emotion}')\n",
    "    img_dir = os.path.join(input_img_root, emotion)\n",
    "    json_path = os.path.join(input_json_root, f'train_crop_{emotion}.json')\n",
    "    save_dir = os.path.join(output_img_root, emotion)\n",
    "    os.makedirs(save_dir, exist_ok=True)\n",
    "\n",
    "    metadata = load_metadata_from_json(json_path)\n",
    "\n",
    "    for fname in os.listdir(img_dir):\n",
    "        if not fname.lower().endswith(('.jpg', '.jpeg', '.png')):\n",
    "            continue\n",
    "\n",
    "        base_fname = strip_ext(fname)\n",
    "        info = metadata.get(base_fname)\n",
    "\n",
    "        img_path = os.path.join(img_dir, fname)\n",
    "        img = Image.open(img_path)\n",
    "\n",
    "        if info is None:\n",
    "            print(f'Warning: {fname} 메타데이터 없음 → 원본만 저장.')\n",
    "            img.save(os.path.join(save_dir, fname))\n",
    "            continue\n",
    "\n",
    "        age = info.get('age')\n",
    "        if age is not None:\n",
    "            age_group = age_to_group(int(age))  # int로 변환해주기\n",
    "        else:\n",
    "            age_group = None\n",
    "\n",
    "        gender = info.get('gender')\n",
    "        key = f'{age_group}_{gender}'\n",
    "\n",
    "        count = augment_counts.get(key, 0)\n",
    "\n",
    "        # 원본 저장\n",
    "        img.save(os.path.join(save_dir, fname))\n",
    "\n",
    "        # 증강 이미지 생성 및 저장\n",
    "        for i in range(count):\n",
    "            aug_img = augment_transform(img)\n",
    "            save_name = f'{base_fname}_aug{i+1}.jpg'\n",
    "            aug_img.save(os.path.join(save_dir, save_name))\n"
   ]
  },
  {
   "cell_type": "code",
   "execution_count": 59,
   "id": "3fe0f18d",
   "metadata": {},
   "outputs": [],
   "source": [
    "metadata = load_metadata_from_json(json_path)"
   ]
  }
 ],
 "metadata": {
  "kernelspec": {
   "display_name": "eunseo",
   "language": "python",
   "name": "python3"
  },
  "language_info": {
   "codemirror_mode": {
    "name": "ipython",
    "version": 3
   },
   "file_extension": ".py",
   "mimetype": "text/x-python",
   "name": "python",
   "nbconvert_exporter": "python",
   "pygments_lexer": "ipython3",
   "version": "3.10.18"
  }
 },
 "nbformat": 4,
 "nbformat_minor": 5
}
