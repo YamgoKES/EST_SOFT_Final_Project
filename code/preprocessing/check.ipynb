{
 "cells": [
  {
   "cell_type": "code",
   "execution_count": 1,
   "id": "69277c8e",
   "metadata": {},
   "outputs": [],
   "source": [
    "import os\n",
    "import json"
   ]
  },
  {
   "cell_type": "code",
   "execution_count": 2,
   "id": "4c36280f",
   "metadata": {},
   "outputs": [],
   "source": [
    "def verify_dataset(image_dir, label_dir, categories, mode='train'):\n",
    "    total_json_count = 0\n",
    "    total_matched_images = 0\n",
    "    missing_entries = []\n",
    "\n",
    "    for category in categories:\n",
    "        json_path = os.path.join(label_dir, f'{mode}_crop_{category}.json') \n",
    "        img_folder = os.path.join(image_dir, category)\n",
    "\n",
    "        with open(json_path, 'r', encoding='utf-8') as f:\n",
    "            label_data = json.load(f)\n",
    "        \n",
    "        print(f\"[{category}] JSON entries: {len(label_data)}\")\n",
    "        total_json_count += len(label_data)\n",
    "\n",
    "        for row in label_data:\n",
    "            filename = row['filename']\n",
    "            base_filename = filename.replace('.jpg', '')\n",
    "            \n",
    "            matched_files = [f for f in os.listdir(img_folder) if f.startswith(base_filename) and f.endswith('.jpg')]\n",
    "            \n",
    "            if len(matched_files) == 0:\n",
    "                missing_entries.append(os.path.join(img_folder, filename))\n",
    "\n",
    "            total_matched_images += len(matched_files)\n",
    "\n",
    "    print(\"\\n[검증 결과]\")\n",
    "    print(f\"총 JSON entries 수: {total_json_count}\")\n",
    "    print(f\"총 매칭된 이미지 수 (원본 + 증강 포함): {total_matched_images}\")\n",
    "    print(f\"누락된 원본 이미지 수: {len(missing_entries)}\")\n",
    "\n",
    "    if missing_entries:\n",
    "        print(\"\\n[누락 이미지 목록 예시]\")\n",
    "        for path in missing_entries[:10]:  # 최대 10개만 출력\n",
    "            print(\" -\", path)"
   ]
  },
  {
   "cell_type": "code",
   "execution_count": null,
   "id": "f191046f",
   "metadata": {},
   "outputs": [],
   "source": [
    "base_dir = os.path.dirname(os.path.abspath(__file__))\n",
    "\n",
    "\n",
    "train_image_dir = os.path.join(base_dir, 'augment')  # Final/augment\n",
    "train_label_dir = os.path.join(base_dir, 'CropData2', 'label', 'train')  # Final/CropData2/label/train\n",
    "categories=['anger','happy','panic','sadness']\n"
   ]
  },
  {
   "cell_type": "code",
   "execution_count": null,
   "id": "3149740e",
   "metadata": {},
   "outputs": [
    {
     "name": "stdout",
     "output_type": "stream",
     "text": [
      "[anger] JSON entries: 1512\n",
      "[happy] JSON entries: 1508\n",
      "[panic] JSON entries: 1512\n",
      "[sadness] JSON entries: 1521\n",
      "\n",
      "[검증 결과]\n",
      "총 JSON entries 수: 6053\n",
      "총 매칭된 이미지 수 (원본 + 증강 포함): 10427\n",
      "누락된 원본 이미지 수: 0\n"
     ]
    }
   ],
   "source": [
    "verify_dataset(train_image_dir, train_label_dir, categories, mode='train')"
   ]
  }
 ],
 "metadata": {
  "kernelspec": {
   "display_name": "eunseo",
   "language": "python",
   "name": "python3"
  },
  "language_info": {
   "codemirror_mode": {
    "name": "ipython",
    "version": 3
   },
   "file_extension": ".py",
   "mimetype": "text/x-python",
   "name": "python",
   "nbconvert_exporter": "python",
   "pygments_lexer": "ipython3",
   "version": "3.10.18"
  }
 },
 "nbformat": 4,
 "nbformat_minor": 5
}
