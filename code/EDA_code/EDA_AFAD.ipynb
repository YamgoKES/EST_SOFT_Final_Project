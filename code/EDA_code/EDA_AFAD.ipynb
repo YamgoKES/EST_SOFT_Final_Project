{
 "cells": [
  {
   "cell_type": "markdown",
   "id": "b00c1724",
   "metadata": {},
   "source": [
    "#### AFAD 분석\n",
    "##### 파일 크기가 너무 커서 서버에서 진행"
   ]
  },
  {
   "cell_type": "code",
   "execution_count": 1,
   "id": "52335f81",
   "metadata": {},
   "outputs": [],
   "source": [
    "import os\n",
    "import pandas as pd\n",
    "from PIL import Image"
   ]
  },
  {
   "cell_type": "code",
   "execution_count": 20,
   "id": "74589f0d",
   "metadata": {},
   "outputs": [],
   "source": [
    "!apt-get update -qq\n",
    "!apt-get install fonts-nanum* -qq"
   ]
  },
  {
   "cell_type": "code",
   "execution_count": 21,
   "id": "4d891e34",
   "metadata": {},
   "outputs": [],
   "source": [
    "import matplotlib.pyplot as plt\n",
    "import matplotlib.font_manager as fm\n",
    "plt.rc('font', family='NanumGothic')"
   ]
  },
  {
   "cell_type": "code",
   "execution_count": 22,
   "id": "292681c8",
   "metadata": {},
   "outputs": [],
   "source": [
    "for fontInfo in fm.fontManager.ttflist:\n",
    "    if 'Nanum' in fontInfo.name:\n",
    "        print(fontInfo.name+\" = \"+fontInfo.fname)"
   ]
  },
  {
   "cell_type": "code",
   "execution_count": 3,
   "id": "a3653746",
   "metadata": {},
   "outputs": [],
   "source": [
    "def load_afad_split_dataset(folder_path):\n",
    "    data = []\n",
    "    valid_exts = ('.jpg', '.jpeg', '.png')\n",
    "\n",
    "    for fname in os.listdir(folder_path):\n",
    "        if not fname.lower().endswith(valid_exts):\n",
    "            continue\n",
    "\n",
    "        try:\n",
    "            parts = fname.split('_')\n",
    "            if len(parts) < 3:\n",
    "                continue  # 파일명 형식 이상 예외 처리\n",
    "\n",
    "            gender = 'female' if parts[0] == 'F' else 'male'\n",
    "            age = int(parts[1])\n",
    "            path = os.path.join(folder_path, fname)\n",
    "\n",
    "            # 이미지 열어서 손상 여부 검사\n",
    "            with Image.open(path) as img:\n",
    "                img.verify()\n",
    "\n",
    "            data.append({'gender': gender, 'age': age, 'path': path})\n",
    "\n",
    "        except Exception as e:\n",
    "            print(f\" 손상된 이미지: {fname} - {e}\")\n",
    "\n",
    "    return pd.DataFrame(data)"
   ]
  },
  {
   "cell_type": "code",
   "execution_count": null,
   "id": "341de29d",
   "metadata": {},
   "outputs": [
    {
     "data": {
      "text/html": [
       "<div>\n",
       "<style scoped>\n",
       "    .dataframe tbody tr th:only-of-type {\n",
       "        vertical-align: middle;\n",
       "    }\n",
       "\n",
       "    .dataframe tbody tr th {\n",
       "        vertical-align: top;\n",
       "    }\n",
       "\n",
       "    .dataframe thead th {\n",
       "        text-align: right;\n",
       "    }\n",
       "</style>\n",
       "<table border=\"1\" class=\"dataframe\">\n",
       "  <thead>\n",
       "    <tr style=\"text-align: right;\">\n",
       "      <th></th>\n",
       "      <th>gender</th>\n",
       "      <th>age</th>\n",
       "      <th>path</th>\n",
       "    </tr>\n",
       "  </thead>\n",
       "  <tbody>\n",
       "    <tr>\n",
       "      <th>0</th>\n",
       "      <td>male</td>\n",
       "      <td>72</td>\n",
       "      <td>/workspace/data/AFAD_unzipped/split/train/M_72...</td>\n",
       "    </tr>\n",
       "    <tr>\n",
       "      <th>1</th>\n",
       "      <td>male</td>\n",
       "      <td>72</td>\n",
       "      <td>/workspace/data/AFAD_unzipped/split/train/M_72...</td>\n",
       "    </tr>\n",
       "    <tr>\n",
       "      <th>2</th>\n",
       "      <td>male</td>\n",
       "      <td>72</td>\n",
       "      <td>/workspace/data/AFAD_unzipped/split/train/M_72...</td>\n",
       "    </tr>\n",
       "    <tr>\n",
       "      <th>3</th>\n",
       "      <td>male</td>\n",
       "      <td>70</td>\n",
       "      <td>/workspace/data/AFAD_unzipped/split/train/M_70...</td>\n",
       "    </tr>\n",
       "    <tr>\n",
       "      <th>4</th>\n",
       "      <td>male</td>\n",
       "      <td>70</td>\n",
       "      <td>/workspace/data/AFAD_unzipped/split/train/M_70...</td>\n",
       "    </tr>\n",
       "  </tbody>\n",
       "</table>\n",
       "</div>"
      ],
      "text/plain": [
       "  gender  age                                               path\n",
       "0   male   72  /workspace/data/AFAD_unzipped/split/train/M_72...\n",
       "1   male   72  /workspace/data/AFAD_unzipped/split/train/M_72...\n",
       "2   male   72  /workspace/data/AFAD_unzipped/split/train/M_72...\n",
       "3   male   70  /workspace/data/AFAD_unzipped/split/train/M_70...\n",
       "4   male   70  /workspace/data/AFAD_unzipped/split/train/M_70..."
      ]
     },
     "execution_count": 4,
     "metadata": {},
     "output_type": "execute_result"
    }
   ],
   "source": [
    "df1 = load_afad_split_dataset(\"data/AFAD_unzipped/split/train\")\n",
    "df1.head()"
   ]
  },
  {
   "cell_type": "code",
   "execution_count": 5,
   "id": "f1c4da5e",
   "metadata": {},
   "outputs": [
    {
     "name": "stdout",
     "output_type": "stream",
     "text": [
      "총 이미지 수: 132400\n"
     ]
    }
   ],
   "source": [
    "print(\"총 이미지 수:\", len(df1))"
   ]
  },
  {
   "cell_type": "code",
   "execution_count": null,
   "id": "e8a67325",
   "metadata": {},
   "outputs": [
    {
     "data": {
      "text/html": [
       "<div>\n",
       "<style scoped>\n",
       "    .dataframe tbody tr th:only-of-type {\n",
       "        vertical-align: middle;\n",
       "    }\n",
       "\n",
       "    .dataframe tbody tr th {\n",
       "        vertical-align: top;\n",
       "    }\n",
       "\n",
       "    .dataframe thead th {\n",
       "        text-align: right;\n",
       "    }\n",
       "</style>\n",
       "<table border=\"1\" class=\"dataframe\">\n",
       "  <thead>\n",
       "    <tr style=\"text-align: right;\">\n",
       "      <th></th>\n",
       "      <th>gender</th>\n",
       "      <th>age</th>\n",
       "      <th>path</th>\n",
       "    </tr>\n",
       "  </thead>\n",
       "  <tbody>\n",
       "    <tr>\n",
       "      <th>0</th>\n",
       "      <td>male</td>\n",
       "      <td>72</td>\n",
       "      <td>/workspace/data/AFAD_unzipped/split/val/M_72_m...</td>\n",
       "    </tr>\n",
       "    <tr>\n",
       "      <th>1</th>\n",
       "      <td>male</td>\n",
       "      <td>70</td>\n",
       "      <td>/workspace/data/AFAD_unzipped/split/val/M_70_S...</td>\n",
       "    </tr>\n",
       "    <tr>\n",
       "      <th>2</th>\n",
       "      <td>male</td>\n",
       "      <td>70</td>\n",
       "      <td>/workspace/data/AFAD_unzipped/split/val/M_70_0...</td>\n",
       "    </tr>\n",
       "    <tr>\n",
       "      <th>3</th>\n",
       "      <td>male</td>\n",
       "      <td>69</td>\n",
       "      <td>/workspace/data/AFAD_unzipped/split/val/M_69_W...</td>\n",
       "    </tr>\n",
       "    <tr>\n",
       "      <th>4</th>\n",
       "      <td>male</td>\n",
       "      <td>69</td>\n",
       "      <td>/workspace/data/AFAD_unzipped/split/val/M_69_m...</td>\n",
       "    </tr>\n",
       "  </tbody>\n",
       "</table>\n",
       "</div>"
      ],
      "text/plain": [
       "  gender  age                                               path\n",
       "0   male   72  /workspace/data/AFAD_unzipped/split/val/M_72_m...\n",
       "1   male   70  /workspace/data/AFAD_unzipped/split/val/M_70_S...\n",
       "2   male   70  /workspace/data/AFAD_unzipped/split/val/M_70_0...\n",
       "3   male   69  /workspace/data/AFAD_unzipped/split/val/M_69_W...\n",
       "4   male   69  /workspace/data/AFAD_unzipped/split/val/M_69_m..."
      ]
     },
     "execution_count": 6,
     "metadata": {},
     "output_type": "execute_result"
    }
   ],
   "source": [
    "df2 = load_afad_split_dataset(\"data/AFAD_unzipped/split/val\")\n",
    "df2.head()"
   ]
  },
  {
   "cell_type": "code",
   "execution_count": 7,
   "id": "dc8de539",
   "metadata": {},
   "outputs": [
    {
     "name": "stdout",
     "output_type": "stream",
     "text": [
      "총 이미지 수: 33101\n"
     ]
    }
   ],
   "source": [
    "print(\"총 이미지 수:\", len(df2))"
   ]
  },
  {
   "cell_type": "code",
   "execution_count": 8,
   "id": "afd1bc4d",
   "metadata": {},
   "outputs": [
    {
     "name": "stdout",
     "output_type": "stream",
     "text": [
      "총 이미지 수: 165501\n"
     ]
    },
    {
     "data": {
      "text/html": [
       "<div>\n",
       "<style scoped>\n",
       "    .dataframe tbody tr th:only-of-type {\n",
       "        vertical-align: middle;\n",
       "    }\n",
       "\n",
       "    .dataframe tbody tr th {\n",
       "        vertical-align: top;\n",
       "    }\n",
       "\n",
       "    .dataframe thead th {\n",
       "        text-align: right;\n",
       "    }\n",
       "</style>\n",
       "<table border=\"1\" class=\"dataframe\">\n",
       "  <thead>\n",
       "    <tr style=\"text-align: right;\">\n",
       "      <th></th>\n",
       "      <th>gender</th>\n",
       "      <th>age</th>\n",
       "      <th>path</th>\n",
       "    </tr>\n",
       "  </thead>\n",
       "  <tbody>\n",
       "    <tr>\n",
       "      <th>0</th>\n",
       "      <td>male</td>\n",
       "      <td>72</td>\n",
       "      <td>/workspace/data/AFAD_unzipped/split/train/M_72...</td>\n",
       "    </tr>\n",
       "    <tr>\n",
       "      <th>1</th>\n",
       "      <td>male</td>\n",
       "      <td>72</td>\n",
       "      <td>/workspace/data/AFAD_unzipped/split/train/M_72...</td>\n",
       "    </tr>\n",
       "    <tr>\n",
       "      <th>2</th>\n",
       "      <td>male</td>\n",
       "      <td>72</td>\n",
       "      <td>/workspace/data/AFAD_unzipped/split/train/M_72...</td>\n",
       "    </tr>\n",
       "    <tr>\n",
       "      <th>3</th>\n",
       "      <td>male</td>\n",
       "      <td>70</td>\n",
       "      <td>/workspace/data/AFAD_unzipped/split/train/M_70...</td>\n",
       "    </tr>\n",
       "    <tr>\n",
       "      <th>4</th>\n",
       "      <td>male</td>\n",
       "      <td>70</td>\n",
       "      <td>/workspace/data/AFAD_unzipped/split/train/M_70...</td>\n",
       "    </tr>\n",
       "  </tbody>\n",
       "</table>\n",
       "</div>"
      ],
      "text/plain": [
       "  gender  age                                               path\n",
       "0   male   72  /workspace/data/AFAD_unzipped/split/train/M_72...\n",
       "1   male   72  /workspace/data/AFAD_unzipped/split/train/M_72...\n",
       "2   male   72  /workspace/data/AFAD_unzipped/split/train/M_72...\n",
       "3   male   70  /workspace/data/AFAD_unzipped/split/train/M_70...\n",
       "4   male   70  /workspace/data/AFAD_unzipped/split/train/M_70..."
      ]
     },
     "execution_count": 8,
     "metadata": {},
     "output_type": "execute_result"
    }
   ],
   "source": [
    "# 둘을 하나의 DataFrame으로 결합\n",
    "df = pd.concat([df1, df2], ignore_index=True)\n",
    "print(f\"총 이미지 수: {len(df)}\")\n",
    "df.head()"
   ]
  },
  {
   "cell_type": "markdown",
   "id": "5b3d9dbf",
   "metadata": {},
   "source": [
    "#### 나이 분포 확인"
   ]
  },
  {
   "cell_type": "code",
   "execution_count": 10,
   "id": "6e085dce",
   "metadata": {},
   "outputs": [
    {
     "data": {
      "image/png": "[encoded data removed]",
      "text/plain": [
       "<Figure size 1000x500 with 1 Axes>"
      ]
     },
     "metadata": {},
     "output_type": "display_data"
    }
   ],
   "source": [
    "import matplotlib.pyplot as plt\n",
    "\n",
    "plt.figure(figsize=(10, 5))\n",
    "df[\"age\"].hist(bins=30, color='skyblue', edgecolor='black')\n",
    "plt.title(\"age\")\n",
    "plt.xlabel(\"age\")\n",
    "plt.ylabel(\"image count\")\n",
    "plt.grid(axis='y', linestyle='--', alpha=0.5)\n",
    "plt.tight_layout()\n",
    "plt.show()"
   ]
  },
  {
   "cell_type": "code",
   "execution_count": 16,
   "id": "9ab57938",
   "metadata": {},
   "outputs": [
    {
     "name": "stdout",
     "output_type": "stream",
     "text": [
      "age\n",
      "15     1251\n",
      "16     2423\n",
      "17     2482\n",
      "18     5585\n",
      "19    12477\n",
      "20    13232\n",
      "21    12560\n",
      "22    13572\n",
      "23    10510\n",
      "24    12891\n",
      "25    11261\n",
      "26     7676\n",
      "27     6481\n",
      "28     5170\n",
      "29     4730\n",
      "30     4806\n",
      "31     4456\n",
      "32     3996\n",
      "33     3701\n",
      "34     3856\n",
      "35     4246\n",
      "36     4234\n",
      "37     3898\n",
      "38     3798\n",
      "39     3791\n",
      "40     1335\n",
      "41      114\n",
      "42      146\n",
      "43      118\n",
      "44       94\n",
      "45       65\n",
      "46       59\n",
      "47       49\n",
      "48       48\n",
      "49       30\n",
      "50       28\n",
      "51       30\n",
      "52       23\n",
      "53       40\n",
      "54       27\n",
      "55       12\n",
      "56       16\n",
      "57       11\n",
      "58       12\n",
      "59        7\n",
      "60        6\n",
      "61        8\n",
      "62       25\n",
      "63        8\n",
      "64        8\n",
      "65        9\n",
      "66       16\n",
      "67       10\n",
      "68        7\n",
      "69       15\n",
      "70        7\n",
      "72       35\n",
      "Name: count, dtype: int64\n"
     ]
    }
   ],
   "source": [
    "age_counts = df[\"age\"].value_counts().sort_index()\n",
    "print(age_counts)"
   ]
  },
  {
   "cell_type": "markdown",
   "id": "b718a7ed",
   "metadata": {},
   "source": [
    "#### 성별 분포"
   ]
  },
  {
   "cell_type": "code",
   "execution_count": 12,
   "id": "b929819a",
   "metadata": {},
   "outputs": [
    {
     "data": {
      "image/png": "[encoded data removed]",
      "text/plain": [
       "<Figure size 640x480 with 1 Axes>"
      ]
     },
     "metadata": {},
     "output_type": "display_data"
    }
   ],
   "source": [
    "df[\"gender\"].value_counts().plot(kind='bar', color='salmon')\n",
    "plt.title(\"gender check\")\n",
    "plt.xlabel(\"gender\")\n",
    "plt.ylabel(\"imgage count\")\n",
    "plt.xticks(rotation=0)\n",
    "plt.grid(axis='y', linestyle='--', alpha=0.5)\n",
    "plt.tight_layout()\n",
    "plt.show()"
   ]
  },
  {
   "cell_type": "code",
   "execution_count": 17,
   "id": "1ef2e219",
   "metadata": {},
   "outputs": [
    {
     "data": {
      "text/plain": [
       "gender\n",
       "male      101519\n",
       "female     63982\n",
       "Name: count, dtype: int64"
      ]
     },
     "execution_count": 17,
     "metadata": {},
     "output_type": "execute_result"
    }
   ],
   "source": [
    "df[\"gender\"].value_counts()"
   ]
  },
  {
   "cell_type": "code",
   "execution_count": 14,
   "id": "0a08ac1e",
   "metadata": {},
   "outputs": [
    {
     "name": "stdout",
     "output_type": "stream",
     "text": [
      "Index(['gender', 'age', 'path'], dtype='object')\n"
     ]
    }
   ],
   "source": [
    "print(df.columns)"
   ]
  }
 ],
 "metadata": {
  "kernelspec": {
   "display_name": "sumin",
   "language": "python",
   "name": "python3"
  },
  "language_info": {
   "codemirror_mode": {
    "name": "ipython",
    "version": 3
   },
   "file_extension": ".py",
   "mimetype": "text/x-python",
   "name": "python",
   "nbconvert_exporter": "python",
   "pygments_lexer": "ipython3",
   "version": "3.10.18"
  }
 },
 "nbformat": 4,
 "nbformat_minor": 5
}
